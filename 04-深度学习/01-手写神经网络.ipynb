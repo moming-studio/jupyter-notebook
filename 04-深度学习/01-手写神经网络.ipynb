{
 "cells": [
  {
   "cell_type": "markdown",
   "metadata": {},
   "source": [
    "### 总结\n",
    "1. 需求:用神经网络，对有3个特征的数据集进行1分类。\n",
    "2. 层次结构\n",
    "   - [3]     INPUT\n",
    "   - [4]     FC-1  隐藏层50个神经元\n",
    "   - [1]     FC-2  输出层10个类别\n",
    "3. 相关模块\n",
    "   - 参数设计: [(N,3) * (3,4) ]  * (4,1)；只有W，没有B。\n",
    "   - 激活函数：sigmoid，每个fc都后加sigmoid。\n",
    "   - 损失函数：差值。\n",
    "   - 优化方法：梯度下降，学习率根据loss计算。瞬间优化的挺好。"
   ]
  },
  {
   "cell_type": "code",
   "execution_count": 1,
   "metadata": {
    "collapsed": false
   },
   "outputs": [
    {
     "name": "stdout",
     "output_type": "stream",
     "text": [
      "X.shape= (4, 3)\n",
      "(4, 1)\n",
      "[[-0.16595599  0.44064899 -0.99977125 -0.39533485]\n",
      " [-0.70648822 -0.81532281 -0.62747958 -0.30887855]\n",
      " [-0.20646505  0.07763347 -0.16161097  0.370439  ]]\n",
      "[[-0.5910955 ]\n",
      " [ 0.75623487]\n",
      " [-0.94522481]\n",
      " [ 0.34093502]]\n",
      "w0.shape= (3, 4)\n",
      "w1.shape= (4, 1)\n"
     ]
    }
   ],
   "source": [
    "import numpy as np  \n",
    "  \n",
    "def sigmoid(x,deriv=False):  \n",
    "    if(deriv==True):  \n",
    "        return x*(1-x)  \n",
    "    return 1/(1+np.exp(-x))  \n",
    "      \n",
    "X = np.array([[0,0,1],  \n",
    "            [0,1,1],  \n",
    "            [1,0,1],  \n",
    "            [1,1,1]]) \n",
    "print(\"X.shape=\",X.shape)\n",
    "                  \n",
    "y = np.array([[0],  \n",
    "            [1],  \n",
    "            [1],  \n",
    "            [0]])  \n",
    "print (y.shape)\n",
    "np.random.seed(1)  \n",
    "  \n",
    "# randomly initialize our weights with mean 0  \n",
    "w0 = 2*np.random.random((3,4)) - 1  \n",
    "w1 = 2*np.random.random((4,1)) - 1\n",
    "print (w0)\n",
    "print (w1)\n",
    "print (\"w0.shape=\",w0.shape)\n",
    "print (\"w1.shape=\",w1.shape)"
   ]
  },
  {
   "cell_type": "code",
   "execution_count": 2,
   "metadata": {
    "collapsed": false
   },
   "outputs": [
    {
     "name": "stdout",
     "output_type": "stream",
     "text": [
      "Error:0.4964100319027255\n",
      "Error:0.008584525653247157\n",
      "Error:0.005789459862507806\n",
      "Error:0.004629176776769983\n",
      "Error:0.003958765280273646\n"
     ]
    }
   ],
   "source": [
    "for j in range(50000):  \n",
    "    #dot是矩阵乘法，这里没有b。\n",
    "    #sigmoid是激活函数\n",
    "    #这里l1，l2的值记录下来，便于反向传播时记录\n",
    "    l0 = X  \n",
    "    l1 = sigmoid(np.dot(l0,w0))\n",
    "    l2 = sigmoid(np.dot(l1,w1))\n",
    "    #loss\n",
    "    loss =  y - l2  \n",
    "    if (j% 10000) == 0:  \n",
    "        print (\"Error:\" + str(np.mean(np.abs(loss))))\n",
    "    \n",
    "    #开始反向传播计算\n",
    "    #-x的梯度\n",
    "    l2_error = -loss;\n",
    "    \n",
    "    #第二次sigmoid前的梯度\n",
    "    l2_delta =  l2_error * sigmoid(l2,deriv=True)  \n",
    "     \n",
    "    #l1的梯度\n",
    "    l1_error = l2_delta.dot(w1.T)  \n",
    "    \n",
    "    #第一次sigmoid前的梯度\n",
    "    l1_delta = l1_error * sigmoid(l1,deriv=True)  \n",
    "    \n",
    "    w1 += l1.T.dot(-l2_delta)  \n",
    "    w0 += l0.T.dot(-l1_delta)"
   ]
  },
  {
   "cell_type": "code",
   "execution_count": null,
   "metadata": {
    "collapsed": true
   },
   "outputs": [],
   "source": []
  }
 ],
 "metadata": {
  "anaconda-cloud": {},
  "kernelspec": {
   "display_name": "Python [conda root]",
   "language": "python",
   "name": "conda-root-py"
  },
  "language_info": {
   "codemirror_mode": {
    "name": "ipython",
    "version": 3
   },
   "file_extension": ".py",
   "mimetype": "text/x-python",
   "name": "python",
   "nbconvert_exporter": "python",
   "pygments_lexer": "ipython3",
   "version": "3.5.2"
  }
 },
 "nbformat": 4,
 "nbformat_minor": 1
}
